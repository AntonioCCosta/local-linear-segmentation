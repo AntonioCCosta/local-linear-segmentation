{
 "cells": [
  {
   "cell_type": "code",
   "execution_count": 1,
   "metadata": {},
   "outputs": [],
   "source": [
    "#data format library\n",
    "import h5py\n",
    "#numpy\n",
    "import numpy as np\n",
    "import numpy.ma as ma\n",
    "#plotting and animation libraries\n",
    "import matplotlib.pyplot as plt\n",
    "import seaborn as sns\n",
    "#clustering libraries\n",
    "import scipy\n",
    "import scipy.cluster as cl\n",
    "import sklearn.cluster as skcl\n",
    "import sklearn.metrics as skm\n",
    "#pca library\n",
    "import sklearn.decomposition as skd\n",
    "import argparse\n",
    "import datetime\n",
    "\n",
    "#My libraries\n",
    "import LLSA as lvar\n",
    "import LLSA_calculations as lvarc"
   ]
  },
  {
   "cell_type": "markdown",
   "metadata": {},
   "source": [
    "### Load the time series and the respective metadata "
   ]
  },
  {
   "cell_type": "code",
   "execution_count": 2,
   "metadata": {},
   "outputs": [],
   "source": [
    "tseries_path='Sample_tseries.h5'\n",
    "f=h5py.File(tseries_path,'r')\n",
    "thetas_gen=np.array(f['MetaData/thetas_gen'],dtype=np.float64)\n",
    "frameRate=np.array(f['MetaData/FrameRate'])[0]\n",
    "duration=np.array(f['MetaData/SimTime'])[0]\n",
    "Ns=np.array(f['MetaData/NumSurrogates'],dtype=int)[0]\n",
    "taus=np.sort(np.array(list(f.keys())[:-1],dtype=float))\n",
    "\n",
    "tau=taus[0]\n",
    "tseries_sim=[]\n",
    "for iteration in range(1,Ns+1):\n",
    "    f=h5py.File(tseries_path,'r')\n",
    "    ts=np.array(f[str(tau)][str(iteration)]['tseries'],dtype=np.float64)\n",
    "    tseries_sim.append(ma.array(ts))\n",
    "f.close()"
   ]
  },
  {
   "cell_type": "code",
   "execution_count": 3,
   "metadata": {},
   "outputs": [
    {
     "name": "stdout",
     "output_type": "stream",
     "text": [
      "We have  100  simulations created using thetas_gen.\n"
     ]
    }
   ],
   "source": [
    "print('We have ',len(tseries_sim),' simulations created using thetas_gen.')"
   ]
  },
  {
   "cell_type": "markdown",
   "metadata": {},
   "source": [
    "# Estimate the minimum window using the condition number"
   ]
  },
  {
   "cell_type": "markdown",
   "metadata": {},
   "source": [
    "The condition number of the covariance matrix of the data and the error serves as guidance for choosing the minimum window size. It tells us when the least squares regression in well-conditioned, which corresponds to a drop in the condition number (high condition numbers indicate near-singularity)"
   ]
  },
  {
   "cell_type": "code",
   "execution_count": 4,
   "metadata": {},
   "outputs": [],
   "source": [
    "guess_dims=4\n",
    "range_minw=np.arange(guess_dims+1,6*guess_dims)\n",
    "conds_sim=[]\n",
    "conds_cov_sim=[]\n",
    "n_windows_per_sim=100\n",
    "for window in range_minw:\n",
    "    conds=[]\n",
    "    conds_cov=[]\n",
    "    for sim_idx in range(len(tseries_sim)):\n",
    "        tseries=tseries_sim[sim_idx]\n",
    "        while len(conds)<n_windows_per_sim:\n",
    "            start_t=np.random.randint(0,len(tseries))\n",
    "            ts=tseries[start_t:start_t+window]\n",
    "            if ma.count_masked(ts)==0 and len(ts)==window:\n",
    "                conds.append(np.linalg.cond(np.cov(ts.T)))\n",
    "                theta,eps=lvarc.get_theta(ts,1)\n",
    "                inter,coef,cov=lvarc.decomposed_theta(theta)\n",
    "                conds_cov.append(np.linalg.cond(cov)) \n",
    "    conds_sim.append(np.hstack(conds))\n",
    "    conds_cov_sim.append(np.hstack(conds_cov))"
   ]
  },
  {
   "cell_type": "code",
   "execution_count": 5,
   "metadata": {},
   "outputs": [],
   "source": [
    "def bootstrap(l,n_times,n_samples=1000,confidence_interval=95):\n",
    "    if n_samples>len(l):\n",
    "        n_samples=len(l)*2\n",
    "    per=(100-confidence_interval)/2\n",
    "    new_means=[]\n",
    "    for i in range(n_times):\n",
    "        indices=np.random.choice(range(0,len(l)),n_samples)#len(l))\n",
    "        new_list=[l[idx] for idx in indices]\n",
    "        new_means.append(ma.median(new_list,axis=0))\n",
    "    new_means=ma.vstack(new_means)\n",
    "    cil=np.zeros(new_means.shape[1])\n",
    "    ciu=np.zeros(new_means.shape[1])\n",
    "    for i in range(new_means.shape[1]):\n",
    "        cil[i]=np.nanpercentile(new_means[:,i].filled(np.nan),per)\n",
    "        ciu[i]=np.nanpercentile(new_means[:,i].filled(np.nan),100-per)\n",
    "    cil = ma.masked_array(cil, np.isnan(cil))\n",
    "    ciu = ma.masked_array(ciu, np.isnan(ciu))\n",
    "    return ma.median(l,axis=0),cil,ciu"
   ]
  },
  {
   "cell_type": "code",
   "execution_count": 6,
   "metadata": {},
   "outputs": [],
   "source": [
    "median_sim=[]\n",
    "median_cil_sim=[]\n",
    "median_ciu_sim=[]\n",
    "median_cov_sim=[]\n",
    "median_cil_cov_sim=[]\n",
    "median_ciu_cov_sim=[]\n",
    "for k in range(len(conds_sim)):\n",
    "    median,cil,ciu=bootstrap(conds_sim[k],100)\n",
    "    median_sim.append(median)\n",
    "    median_cil_sim.append(cil)\n",
    "    median_ciu_sim.append(ciu)\n",
    "    median,cil,ciu=bootstrap(conds_cov_sim[k],100)\n",
    "    median_cov_sim.append(median)\n",
    "    median_cil_cov_sim.append(cil)\n",
    "    median_ciu_cov_sim.append(ciu)"
   ]
  },
  {
   "cell_type": "code",
   "execution_count": 7,
   "metadata": {},
   "outputs": [
    {
     "data": {
      "image/png": "[encoded data removed]",
      "text/plain": [
       "<Figure size 432x288 with 1 Axes>"
      ]
     },
     "metadata": {},
     "output_type": "display_data"
    }
   ],
   "source": [
    "plt.plot(range_minw,np.hstack(median_cov_sim),marker='o',label='$k(\\eta^T\\eta)$')\n",
    "plt.fill_between(range_minw,np.hstack(median_cil_cov_sim),np.hstack(median_ciu_cov_sim),alpha=.7)\n",
    "plt.plot(range_minw,np.hstack(median_sim),marker='o',label='$k(X^TX)$')\n",
    "plt.fill_between(range_minw,np.hstack(median_cil_sim),np.hstack(median_ciu_sim),alpha=.7)\n",
    "plt.ylabel('Condition number',fontsize=15)\n",
    "plt.xlabel('Minimum window (frames)',fontsize=15)\n",
    "plt.yscale('log')\n",
    "plt.xticks(fontsize=12)\n",
    "plt.yticks(fontsize=12)\n",
    "plt.xlim(guess_dims,20)\n",
    "plt.legend(fontsize=15)\n",
    "# plt.savefig('Cond_brain.eps')\n",
    "plt.show()"
   ]
  },
  {
   "cell_type": "code",
   "execution_count": 8,
   "metadata": {},
   "outputs": [],
   "source": [
    "#the value of w0 should be guided by the previous plot\n",
    "w0=6\n",
    "step_fraction=.1\n",
    "i=w0\n",
    "w=[]\n",
    "while i < np.inf:\n",
    "    w.append(i)\n",
    "    step=int(i*step_fraction)\n",
    "    if int(i*step_fraction)>w0:\n",
    "        break\n",
    "    if step<1:\n",
    "        step=1\n",
    "    i+=step"
   ]
  },
  {
   "cell_type": "markdown",
   "metadata": {},
   "source": [
    "### Plot of a sample time series "
   ]
  },
  {
   "cell_type": "code",
   "execution_count": 9,
   "metadata": {},
   "outputs": [
    {
     "data": {
      "image/png": "[encoded data removed]",
      "text/plain": [
       "<Figure size 432x288 with 1 Axes>"
      ]
     },
     "metadata": {},
     "output_type": "display_data"
    }
   ],
   "source": [
    "plt.title('Sample time series',fontsize=16)\n",
    "plt.plot(tseries_sim[0])\n",
    "plt.xticks(fontsize=12)\n",
    "plt.yticks(fontsize=12)\n",
    "plt.xlabel('time (frames)',fontsize=15)\n",
    "plt.ylabel(r'$\\vec{x}$',fontsize=15,rotation=0)\n",
    "plt.show()"
   ]
  },
  {
   "cell_type": "markdown",
   "metadata": {},
   "source": [
    "# Adaptive segmentation"
   ]
  },
  {
   "cell_type": "code",
   "execution_count": 10,
   "metadata": {},
   "outputs": [],
   "source": [
    "N=1000\n",
    "per=97.5\n",
    "breaks_segments_sim=[]\n",
    "#you can take this up to 100 (you can also parallelize this calculation) :)\n",
    "num_tseries=5\n",
    "for sim_idx in range(num_tseries):\n",
    "    sample_tseries=tseries_sim[sim_idx]\n",
    "    #apply segmentation algorithm\n",
    "    breaks_segments=lvar.change_point(w,N,per,sample_tseries,20)\n",
    "    breaks_segments_sim.append(breaks_segments)"
   ]
  },
  {
   "cell_type": "code",
   "execution_count": 11,
   "metadata": {},
   "outputs": [],
   "source": [
    "thetas_sim=[]\n",
    "windows_sim=[]\n",
    "for breaks_segments in breaks_segments_sim:\n",
    "    windows_segment,segments=breaks_segments\n",
    "    #compute thetas in the obtained windows_segment\n",
    "    thetas_final=[]\n",
    "    for idx,seg in enumerate(segments):\n",
    "        segment_windows=np.copy(windows_segment[idx])\n",
    "        segments_windows=list(segment_windows)\n",
    "        thetas=[]\n",
    "        for seg_w in segment_windows:\n",
    "            i_0,i_f=seg_w\n",
    "            window_bw=sample_tseries[i_0:i_f]\n",
    "            theta,eps=lvarc.get_theta(window_bw,1)\n",
    "            thetas.append(np.vstack(theta))\n",
    "        thetas_final.append(thetas)\n",
    "    thetas_final=np.concatenate(thetas_final)\n",
    "    windows_final=np.concatenate(windows_segment)\n",
    "    thetas_sim.append(thetas_final)\n",
    "    windows_sim.append(windows_final)"
   ]
  },
  {
   "cell_type": "code",
   "execution_count": 12,
   "metadata": {},
   "outputs": [],
   "source": [
    "#this raster plot is only interesting in the large n limit\n",
    "\n",
    "raster=np.zeros((len(tseries_sim[0]),num_tseries))\n",
    "for sim_idx,windows in enumerate(windows_sim):\n",
    "    for window in windows:\n",
    "        raster[window[1]-1,sim_idx]=1"
   ]
  },
  {
   "cell_type": "code",
   "execution_count": 13,
   "metadata": {},
   "outputs": [
    {
     "data": {
      "image/png": "[encoded data removed]",
      "text/plain": [
       "<Figure size 432x288 with 1 Axes>"
      ]
     },
     "metadata": {},
     "output_type": "display_data"
    }
   ],
   "source": [
    "plt.imshow(raster.T,cmap='binary')\n",
    "plt.xticks([19,39],['20','40'])\n",
    "plt.xlabel('time (frames)')\n",
    "plt.ylabel('simulation')\n",
    "plt.show()"
   ]
  },
  {
   "cell_type": "markdown",
   "metadata": {},
   "source": [
    "# Likelihood hierarchical clustering"
   ]
  },
  {
   "cell_type": "code",
   "execution_count": 16,
   "metadata": {},
   "outputs": [],
   "source": [
    "def compute_master_theta(models,windows_sim,tseries_sim):\n",
    "    master_tseries=[]\n",
    "    for model in models:\n",
    "        sim_idx,window_idx=model\n",
    "        window=windows_sim[sim_idx][window_idx]\n",
    "        t0,tf=window\n",
    "        ts=tseries_sim[sim_idx][t0:tf]\n",
    "        master_tseries.append(ts)\n",
    "        master_tseries.append([np.nan]*ts.shape[1])\n",
    "    master_tseries=ma.masked_invalid(ma.vstack(master_tseries))\n",
    "    master_theta,eps=lvarc.get_theta_masked(master_tseries)\n",
    "    return master_theta\n",
    "\n",
    "def likelihood_distance(models,windows_sim,tseries_sim,thetas_sim):\n",
    "    master_theta=compute_master_theta(models,windows_sim,tseries_sim)\n",
    "    distances=[]\n",
    "    for model in models:\n",
    "        sim_idx,model_idx=model\n",
    "        theta=thetas_sim[sim_idx][model_idx]\n",
    "        window=windows_sim[sim_idx][model_idx]\n",
    "        t0,tf=window\n",
    "        ts=ma.masked_invalid(tseries_sim[sim_idx][t0:tf])\n",
    "        theta_here,eps=lvarc.get_theta(ts)\n",
    "        distances.append(lvarc.loglik_mvn_masked(theta,ts)-lvarc.loglik_mvn_masked(master_theta,ts))\n",
    "    return np.sum(distances)"
   ]
  },
  {
   "cell_type": "code",
   "execution_count": 17,
   "metadata": {},
   "outputs": [],
   "source": [
    "windows=windows_final\n",
    "all_models=[]\n",
    "for sim_idx in range(num_tseries):\n",
    "    for kw,window in enumerate(windows_sim[sim_idx]):\n",
    "        all_models.append([sim_idx,kw])\n",
    "all_models=np.vstack(all_models)"
   ]
  },
  {
   "cell_type": "markdown",
   "metadata": {},
   "source": [
    "## Compute dissimilarity matrix "
   ]
  },
  {
   "cell_type": "code",
   "execution_count": 18,
   "metadata": {},
   "outputs": [],
   "source": [
    "modelx_i=0\n",
    "modelx_f=len(all_models)\n",
    "modely_i=0\n",
    "modely_f=len(all_models)\n",
    "\n",
    "\n",
    "n_modelsx=modelx_f-modelx_i\n",
    "n_modelsy=modely_f-modely_i\n",
    "dissimilarity_matrix=np.zeros((n_modelsx,n_modelsy))\n",
    "indices=np.array([[modelx_i,modelx_f],[modely_i,modely_f]])\n",
    "for idx1,idx_model1 in enumerate(np.arange(modelx_i,modelx_f)):\n",
    "    for idx2,idx_model2 in enumerate(np.arange(modely_i,modely_f)):\n",
    "        model1=all_models[idx_model1]\n",
    "        model2=all_models[idx_model2]\n",
    "        models_=np.vstack((model1,model2))\n",
    "        dist=likelihood_distance(models_,windows_sim,tseries_sim,thetas_sim)\n",
    "        dissimilarity_matrix[idx1,idx2]=dist"
   ]
  },
  {
   "cell_type": "markdown",
   "metadata": {},
   "source": [
    "### Ensure symmetrization before applying Ward's method "
   ]
  },
  {
   "cell_type": "code",
   "execution_count": 19,
   "metadata": {},
   "outputs": [],
   "source": [
    "def symmetrize(a):\n",
    "    return (a + a.T)/2 - np.diag(a.diagonal())"
   ]
  },
  {
   "cell_type": "code",
   "execution_count": 20,
   "metadata": {},
   "outputs": [],
   "source": [
    "#this fixes possible numerical precision errors\n",
    "sym_dissimilarity_matrix=symmetrize(dissimilarity_matrix)\n",
    "sym_dissimilarity_matrix[sym_dissimilarity_matrix<0]=0"
   ]
  },
  {
   "cell_type": "code",
   "execution_count": 24,
   "metadata": {},
   "outputs": [
    {
     "data": {
      "image/png": "[encoded data removed]",
      "text/plain": [
       "<Figure size 432x288 with 2 Axes>"
      ]
     },
     "metadata": {},
     "output_type": "display_data"
    }
   ],
   "source": [
    "plt.imshow(sym_dissimilarity_matrix,cmap='jet')\n",
    "plt.colorbar()\n",
    "plt.show()"
   ]
  },
  {
   "cell_type": "code",
   "execution_count": 25,
   "metadata": {},
   "outputs": [],
   "source": [
    "#load clustering packages\n",
    "import scipy.cluster as cl\n",
    "import scipy.spatial.distance as ssd"
   ]
  },
  {
   "cell_type": "code",
   "execution_count": 26,
   "metadata": {},
   "outputs": [],
   "source": [
    "#turn distance matrix into a vector\n",
    "pdist=ssd.squareform(sym_dissimilarity_matrix,force='tovector')\n",
    "#perform hierarchical clustering using Ward's method\n",
    "Z=cl.hierarchy.ward(pdist)"
   ]
  },
  {
   "cell_type": "code",
   "execution_count": 27,
   "metadata": {},
   "outputs": [
    {
     "data": {
      "image/png": "[encoded data removed]",
      "text/plain": [
       "<Figure size 432x288 with 1 Axes>"
      ]
     },
     "metadata": {},
     "output_type": "display_data"
    }
   ],
   "source": [
    "from scipy.cluster.hierarchy import dendrogram\n",
    "\n",
    "plt.title('Hierarchical Clustering Dendrogram (truncated)')\n",
    "plt.xlabel('sample index')\n",
    "plt.ylabel('dissimilarity')\n",
    "ddgram=dendrogram(\n",
    "    Z,\n",
    "    show_leaf_counts=False,  # otherwise numbers in brackets are counts\n",
    "    leaf_rotation=90.,\n",
    "    leaf_font_size=12.,\n",
    ")\n",
    "plt.grid(False)\n",
    "plt.show()"
   ]
  },
  {
   "cell_type": "markdown",
   "metadata": {},
   "source": [
    "#### Organize distance matrix according to the clustering"
   ]
  },
  {
   "cell_type": "code",
   "execution_count": 28,
   "metadata": {},
   "outputs": [],
   "source": [
    "import scipy.cluster.hierarchy as sch\n",
    "def seriation(Z,N,cur_index):\n",
    "    if cur_index < N:\n",
    "        return [cur_index]\n",
    "    else:\n",
    "        left = int(Z[cur_index-N,0])\n",
    "        right = int(Z[cur_index-N,1])\n",
    "        return (seriation(Z,N,left) + seriation(Z,N,right))\n",
    "    \n",
    "def compute_serial_matrix(dist_mat,Z=0,method=\"ward\",precomputed=False):\n",
    "    N = len(dist_mat)\n",
    "    if precomputed:\n",
    "        res_linkage = Z\n",
    "    else:\n",
    "        flat_dist_mat = ssd.squareform(dist_mat)\n",
    "        res_linkage=sch.linkage(flat_dist_mat, method=method)\n",
    "    res_order = seriation(res_linkage, N, N + N-2)\n",
    "    seriated_dist = np.zeros((N,N))\n",
    "    a,b = np.triu_indices(N,k=1)\n",
    "    seriated_dist[a,b] = dist_mat[ [res_order[i] for i in a], [res_order[j] for j in b]]\n",
    "    seriated_dist[b,a] = seriated_dist[a,b]\n",
    "    \n",
    "    return seriated_dist, res_order, res_linkage"
   ]
  },
  {
   "cell_type": "code",
   "execution_count": 29,
   "metadata": {},
   "outputs": [
    {
     "data": {
      "image/png": "[encoded data removed]",
      "text/plain": [
       "<Figure size 360x360 with 2 Axes>"
      ]
     },
     "metadata": {},
     "output_type": "display_data"
    }
   ],
   "source": [
    "seriated_dist,res_order,res_linkage=compute_serial_matrix(sym_dissimilarity_matrix,Z=Z,precomputed=True)\n",
    "plt.figure(figsize=(5,5))\n",
    "plt.imshow(seriated_dist,cmap='jet',vmin=50,vmax=350)\n",
    "plt.grid(False)\n",
    "plt.colorbar()\n",
    "plt.show()"
   ]
  },
  {
   "cell_type": "code",
   "execution_count": 30,
   "metadata": {},
   "outputs": [
    {
     "data": {
      "text/plain": [
       "array([1, 2, 1, 1, 2, 1, 2, 2, 1, 1, 2, 2, 1, 2, 2], dtype=int32)"
      ]
     },
     "execution_count": 30,
     "metadata": {},
     "output_type": "execute_result"
    }
   ],
   "source": [
    "from scipy.cluster.hierarchy import fcluster\n",
    "# max_d = 2\n",
    "# cluster_labels = fcluster(Z, max_d, criterion='distance')\n",
    "k = 2\n",
    "cluster_labels = fcluster(Z, k, criterion='maxclust')\n",
    "cluster_labels"
   ]
  },
  {
   "cell_type": "code",
   "execution_count": 39,
   "metadata": {},
   "outputs": [],
   "source": [
    "#you can get the frequency of the models used to simulate the data\n",
    "freqs_gen=[]\n",
    "coefs_gen=[]\n",
    "for theta in thetas_gen:\n",
    "    c,A,cov=lvarc.decomposed_theta(theta)\n",
    "    coef=(A-np.identity(2))*frameRate\n",
    "    coefs_gen.append(coef)\n",
    "    eigs=np.linalg.eigvals(coef)\n",
    "    freqs_gen.append(np.abs(eigs.imag[0])/(2*np.pi))"
   ]
  },
  {
   "cell_type": "code",
   "execution_count": 40,
   "metadata": {},
   "outputs": [
    {
     "name": "stdout",
     "output_type": "stream",
     "text": [
      "1\n",
      "2\n"
     ]
    },
    {
     "data": {
      "image/png": "[encoded data removed]",
      "text/plain": [
       "<Figure size 432x288 with 1 Axes>"
      ]
     },
     "metadata": {},
     "output_type": "display_data"
    }
   ],
   "source": [
    "#and compare with the frequencies of the two main clusters\n",
    "freqs=[]\n",
    "coefs=[]\n",
    "for idx in np.sort(np.unique(cluster_labels)):\n",
    "    print(idx)\n",
    "    indices=np.arange(len(cluster_labels))[cluster_labels==idx]\n",
    "    master_theta=compute_master_theta(all_models[indices],windows_sim,tseries_sim)\n",
    "    c,A,cov=lvarc.decomposed_theta(master_theta)\n",
    "    coef=(A-np.identity(2))*frameRate\n",
    "    coefs.append(coef)\n",
    "    eigs=np.linalg.eigvals(coef)\n",
    "    plt.scatter(eigs.real,eigs.imag)\n",
    "    freqs.append(np.abs(eigs.imag[0])/(2*np.pi))\n",
    "plt.xlim(-3,0)\n",
    "plt.axvline(0,c='k',alpha=.2)\n",
    "plt.axhline(0,c='k',alpha=.2)\n",
    "plt.xlabel('$\\lambda_r$',fontsize=14)\n",
    "plt.ylabel('$\\lambda_i$',fontsize=14,rotation=0)\n",
    "plt.show()"
   ]
  },
  {
   "cell_type": "code",
   "execution_count": 41,
   "metadata": {},
   "outputs": [
    {
     "data": {
      "text/plain": [
       "[1.5586625093313424, 1.5573618600959589]"
      ]
     },
     "execution_count": 41,
     "metadata": {},
     "output_type": "execute_result"
    }
   ],
   "source": [
    "freqs_gen"
   ]
  },
  {
   "cell_type": "code",
   "execution_count": 42,
   "metadata": {},
   "outputs": [
    {
     "data": {
      "text/plain": [
       "[1.5591612958134593, 1.5771891995007794]"
      ]
     },
     "execution_count": 42,
     "metadata": {},
     "output_type": "execute_result"
    }
   ],
   "source": [
    "freqs"
   ]
  },
  {
   "cell_type": "code",
   "execution_count": 43,
   "metadata": {},
   "outputs": [
    {
     "data": {
      "image/png": "[encoded data removed]",
      "text/plain": [
       "<Figure size 432x288 with 2 Axes>"
      ]
     },
     "metadata": {},
     "output_type": "display_data"
    },
    {
     "data": {
      "image/png": "[encoded data removed]",
      "text/plain": [
       "<Figure size 432x288 with 2 Axes>"
      ]
     },
     "metadata": {},
     "output_type": "display_data"
    }
   ],
   "source": [
    "plt.suptitle('Estimated couplings')\n",
    "for idx,coef in enumerate(coefs):\n",
    "    plt.subplot(1,2,idx+1)\n",
    "    plt.title('State '+str(idx+1))\n",
    "    plt.imshow(coef,cmap='seismic',vmin=-5,vmax=5)\n",
    "plt.tight_layout()\n",
    "plt.show()\n",
    "    \n",
    "plt.suptitle('Original couplings')\n",
    "for idx,coef in enumerate(coefs_gen):\n",
    "    plt.subplot(1,2,idx+1)\n",
    "    plt.title('State '+str(idx+1))\n",
    "    plt.imshow(coef,cmap='seismic',vmin=-5,vmax=5)\n",
    "plt.tight_layout()\n",
    "plt.show()"
   ]
  }
 ],
 "metadata": {
  "kernelspec": {
   "display_name": "Python 3",
   "language": "python",
   "name": "python3"
  },
  "language_info": {
   "codemirror_mode": {
    "name": "ipython",
    "version": 3
   },
   "file_extension": ".py",
   "mimetype": "text/x-python",
   "name": "python",
   "nbconvert_exporter": "python",
   "pygments_lexer": "ipython3",
   "version": "3.5.5"
  }
 },
 "nbformat": 4,
 "nbformat_minor": 2
}
